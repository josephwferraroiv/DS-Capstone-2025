{
  "nbformat": 4,
  "nbformat_minor": 0,
  "metadata": {
    "colab": {
      "provenance": []
    },
    "kernelspec": {
      "name": "python3",
      "display_name": "Python 3"
    },
    "language_info": {
      "name": "python"
    }
  },
  "cells": [
    {
      "cell_type": "code",
      "source": [
        "import yfinance as yf\n",
        "import pandas as pd\n",
        "import numpy as np\n",
        "from sklearn.ensemble import RandomForestClassifier"
      ],
      "metadata": {
        "id": "yGYu44KZAPmM"
      },
      "execution_count": 1,
      "outputs": []
    },
    {
      "cell_type": "code",
      "execution_count": 2,
      "metadata": {
        "id": "FUxu9pJ7_wig"
      },
      "outputs": [],
      "source": [
        "def test_labels():\n",
        "    import pandas as pd\n",
        "    df = pd.DataFrame({'Price': [100, 102, 101, 99, 97, 105]})\n",
        "    df['Forward_5d_Return'] = (df['Price'].shift(-5) - df['Price']) / df['Price']\n",
        "\n",
        "    def label_return(r):\n",
        "        if r > 0.02:\n",
        "            return 1\n",
        "        elif r < -0.02:\n",
        "            return -1\n",
        "        else:\n",
        "            return 0\n",
        "\n",
        "    df['Label'] = df['Forward_5d_Return'].apply(label_return)\n",
        "\n",
        "    print(\"Test DataFrame:\")\n",
        "    print(df)\n",
        "\n",
        "    expected_label_0 = 1  # From 100 to 105 = +5%\n",
        "    expected_label_1 = 0  # Will be NaN return, so label = 0\n",
        "\n",
        "    print(\"\\nExpected Label at index 0:\", expected_label_0)\n",
        "    print(\"Actual Label at index 0:\", df['Label'].iloc[0])\n",
        "    print(\"PASS\" if df['Label'].iloc[0] == expected_label_0 else \"FAIL\")\n",
        "\n",
        "    print(\"\\nExpected Label at index 1:\", expected_label_1)\n",
        "    print(\"Actual Label at index 1:\", df['Label'].iloc[1])\n",
        "    print(\"PASS\" if df['Label'].iloc[1] == expected_label_1 else \"FAIL\")\n"
      ]
    },
    {
      "cell_type": "code",
      "source": [
        "test_labels()\n"
      ],
      "metadata": {
        "colab": {
          "base_uri": "https://localhost:8080/"
        },
        "id": "CP3kJEvlBict",
        "outputId": "f90f9485-b4a0-42e4-a53b-3110288fe7b7"
      },
      "execution_count": 3,
      "outputs": [
        {
          "output_type": "stream",
          "name": "stdout",
          "text": [
            "Test DataFrame:\n",
            "   Price  Forward_5d_Return  Label\n",
            "0    100               0.05      1\n",
            "1    102                NaN      0\n",
            "2    101                NaN      0\n",
            "3     99                NaN      0\n",
            "4     97                NaN      0\n",
            "5    105                NaN      0\n",
            "\n",
            "Expected Label at index 0: 1\n",
            "Actual Label at index 0: 1\n",
            "PASS\n",
            "\n",
            "Expected Label at index 1: 0\n",
            "Actual Label at index 1: 0\n",
            "PASS\n"
          ]
        }
      ]
    },
    {
      "cell_type": "code",
      "source": [
        "def test_technical_indicators():\n",
        "    import pandas as pd\n",
        "    import numpy as np\n",
        "    data = list(range(1, 21))  # 1 to 20\n",
        "    df = pd.DataFrame({'Price': data})\n",
        "\n",
        "    df['SMA_20'] = df['Price'].rolling(window=20).mean()\n",
        "    df['Momentum_10'] = df['Price'] - df['Price'].shift(10)\n",
        "\n",
        "    print(\"\\nTechnical Indicators DataFrame:\")\n",
        "    print(df)\n",
        "\n",
        "    expected_sma = sum(range(1, 21)) / 20\n",
        "    actual_sma = df['SMA_20'].iloc[-1]\n",
        "    print(\"\\nExpected SMA_20 at last row:\", expected_sma)\n",
        "    print(\"Actual SMA_20 at last row:\", actual_sma)\n",
        "    print(\"PASS\" if np.isclose(actual_sma, expected_sma) else \"FAIL\")\n",
        "\n",
        "    expected_momentum = 20 - 10\n",
        "    actual_momentum = df['Momentum_10'].iloc[-1]\n",
        "    print(\"\\nExpected Momentum_10 at last row:\", expected_momentum)\n",
        "    print(\"Actual Momentum_10 at last row:\", actual_momentum)\n",
        "    print(\"PASS\" if actual_momentum == expected_momentum else \"FAIL\")\n",
        "\n"
      ],
      "metadata": {
        "id": "o-J7YoTL_7d6"
      },
      "execution_count": 17,
      "outputs": []
    },
    {
      "cell_type": "code",
      "source": [
        "test_technical_indicators()"
      ],
      "metadata": {
        "colab": {
          "base_uri": "https://localhost:8080/"
        },
        "id": "ywtovbomB6ss",
        "outputId": "d6f7174a-7e63-4e0c-ee7a-35e1f8b8e725"
      },
      "execution_count": 18,
      "outputs": [
        {
          "output_type": "stream",
          "name": "stdout",
          "text": [
            "\n",
            "Technical Indicators DataFrame:\n",
            "    Price  SMA_20  Momentum_10\n",
            "0       1     NaN          NaN\n",
            "1       2     NaN          NaN\n",
            "2       3     NaN          NaN\n",
            "3       4     NaN          NaN\n",
            "4       5     NaN          NaN\n",
            "5       6     NaN          NaN\n",
            "6       7     NaN          NaN\n",
            "7       8     NaN          NaN\n",
            "8       9     NaN          NaN\n",
            "9      10     NaN          NaN\n",
            "10     11     NaN         10.0\n",
            "11     12     NaN         10.0\n",
            "12     13     NaN         10.0\n",
            "13     14     NaN         10.0\n",
            "14     15     NaN         10.0\n",
            "15     16     NaN         10.0\n",
            "16     17     NaN         10.0\n",
            "17     18     NaN         10.0\n",
            "18     19     NaN         10.0\n",
            "19     20    10.5         10.0\n",
            "\n",
            "Expected SMA_20 at last row: 10.5\n",
            "Actual SMA_20 at last row: 10.5\n",
            "PASS\n",
            "\n",
            "Expected Momentum_10 at last row: 10\n",
            "Actual Momentum_10 at last row: 10.0\n",
            "PASS\n"
          ]
        }
      ]
    },
    {
      "cell_type": "code",
      "source": [
        "def test_random_forest_predict():\n",
        "    import pandas as pd\n",
        "    from sklearn.ensemble import RandomForestClassifier\n",
        "    from sklearn.metrics import accuracy_score\n",
        "\n",
        "    # Sample synthetic dataset\n",
        "    df = pd.DataFrame({\n",
        "        'SMA_20': [1.2, 1.5, 1.3, 1.4, 1.6],\n",
        "        'Momentum_10': [0.1, 0.2, -0.1, 0.05, -0.2],\n",
        "        'Volatility_10': [0.5, 0.6, 0.4, 0.55, 0.45],\n",
        "        'Label': [1, 0, -1, 1, 0]\n",
        "    })\n",
        "\n",
        "    features = ['SMA_20', 'Momentum_10', 'Volatility_10']\n",
        "    X = df[features]\n",
        "    y = df['Label']\n",
        "\n",
        "    clf = RandomForestClassifier(n_estimators=10, random_state=42)\n",
        "    clf.fit(X, y)\n",
        "    predictions = clf.predict(X)\n",
        "\n",
        "    accuracy = accuracy_score(y, predictions)\n",
        "\n",
        "    print(\"\\nRandom Forest Test DataFrame:\")\n",
        "    print(df)\n",
        "    print(\"\\nPredictions:\", predictions)\n",
        "    print(\"Accuracy:\", accuracy)\n",
        "    print(\"PASS\" if accuracy >= 0.6 else \"FAIL\")\n"
      ],
      "metadata": {
        "id": "ZUEFk5Ok_9By"
      },
      "execution_count": 19,
      "outputs": []
    },
    {
      "cell_type": "code",
      "source": [
        "test_random_forest_predict()"
      ],
      "metadata": {
        "colab": {
          "base_uri": "https://localhost:8080/"
        },
        "id": "skIlECbACQLU",
        "outputId": "18fae8dc-3d7c-4da3-d2b0-6ef09f616ede"
      },
      "execution_count": 20,
      "outputs": [
        {
          "output_type": "stream",
          "name": "stdout",
          "text": [
            "\n",
            "Random Forest Test DataFrame:\n",
            "   SMA_20  Momentum_10  Volatility_10  Label\n",
            "0     1.2         0.10           0.50      1\n",
            "1     1.5         0.20           0.60      0\n",
            "2     1.3        -0.10           0.40     -1\n",
            "3     1.4         0.05           0.55      1\n",
            "4     1.6        -0.20           0.45      0\n",
            "\n",
            "Predictions: [ 1  0 -1  1  0]\n",
            "Accuracy: 1.0\n",
            "PASS\n"
          ]
        }
      ]
    }
  ]
}